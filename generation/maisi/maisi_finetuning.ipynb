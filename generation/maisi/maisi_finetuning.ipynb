{
 "cells": [
  {
   "cell_type": "markdown",
   "id": "12ff48d3",
   "metadata": {},
   "source": [
    "## Setup environment"
   ]
  },
  {
   "cell_type": "code",
   "execution_count": 1,
   "id": "f96b6f31",
   "metadata": {},
   "outputs": [],
   "source": [
    "!python -c \"import monai\" || pip install -q \"monai-weekly[nibabel, tqdm]\"\n",
    "!python -c \"import matplotlib\" || pip install -q matplotlib\n",
    "%matplotlib inline"
   ]
  },
  {
   "cell_type": "markdown",
   "id": "cbc01d24",
   "metadata": {},
   "source": [
    "## Setup imports"
   ]
  },
  {
   "cell_type": "code",
   "execution_count": 2,
   "id": "67e2019e-1556-41a6-95e8-5d1a65f8b3a1",
   "metadata": {
    "scrolled": true
   },
   "outputs": [
    {
     "name": "stdout",
     "output_type": "stream",
     "text": [
      "MONAI version: 1.4.0\n",
      "Numpy version: 1.26.4\n",
      "Pytorch version: 2.3.0+cu121\n",
      "MONAI flags: HAS_EXT = False, USE_COMPILED = False, USE_META_DICT = False\n",
      "MONAI rev id: 46a5272196a6c2590ca2589029eed8e4d56ff008\n",
      "MONAI __file__: /cim/<username>/our-env/lib/python3.10/site-packages/monai/__init__.py\n",
      "\n",
      "Optional dependencies:\n",
      "Pytorch Ignite version: 0.5.0.post2\n",
      "ITK version: NOT INSTALLED or UNKNOWN VERSION.\n",
      "Nibabel version: 5.2.1\n",
      "scikit-image version: 0.24.0\n",
      "scipy version: 1.13.1\n",
      "Pillow version: 11.0.0\n",
      "Tensorboard version: NOT INSTALLED or UNKNOWN VERSION.\n",
      "gdown version: NOT INSTALLED or UNKNOWN VERSION.\n",
      "TorchVision version: 0.18.0+cu121\n",
      "tqdm version: 4.66.4\n",
      "lmdb version: NOT INSTALLED or UNKNOWN VERSION.\n",
      "psutil version: 5.9.8\n",
      "pandas version: 2.2.1\n",
      "einops version: NOT INSTALLED or UNKNOWN VERSION.\n",
      "transformers version: NOT INSTALLED or UNKNOWN VERSION.\n",
      "mlflow version: NOT INSTALLED or UNKNOWN VERSION.\n",
      "pynrrd version: NOT INSTALLED or UNKNOWN VERSION.\n",
      "clearml version: NOT INSTALLED or UNKNOWN VERSION.\n",
      "\n",
      "For details about installing the optional dependencies, please visit:\n",
      "    https://docs.monai.io/en/latest/installation.html#installing-the-recommended-dependencies\n",
      "\n"
     ]
    }
   ],
   "source": [
    "import argparse\n",
    "import glob\n",
    "import json\n",
    "import os\n",
    "import sys\n",
    "import tempfile\n",
    "from pathlib import Path\n",
    "import pickle as pkl\n",
    "\n",
    "import torch\n",
    "from monai.networks.nets import PatchDiscriminator\n",
    "from monai.apps import download_and_extract\n",
    "from monai.config import print_config\n",
    "from monai.data import CacheDataset, DataLoader\n",
    "from monai.inferers.inferer import SimpleInferer, SlidingWindowInferer\n",
    "from monai.losses.adversarial_loss import PatchAdversarialLoss\n",
    "from monai.losses.perceptual import PerceptualLoss\n",
    "from monai.utils import set_determinism\n",
    "from torch.amp import GradScaler, autocast\n",
    "from torch.nn import L1Loss, MSELoss\n",
    "from torch.optim import lr_scheduler\n",
    "# from torch.utils.tensorboard import SummaryWriter  # do not need this\n",
    "\n",
    "from scripts.transforms import VAE_Transform\n",
    "from scripts.utils import KL_loss, define_instance, dynamic_infer\n",
    "from scripts.utils_plot import find_label_center_loc, get_xyz_plot, show_image\n",
    "\n",
    "import warnings\n",
    "\n",
    "warnings.filterwarnings(\"ignore\")\n",
    "\n",
    "print_config()"
   ]
  },
  {
   "cell_type": "markdown",
   "id": "50e37a43",
   "metadata": {},
   "source": [
    "## Setup data directory\n",
    "You can specify a directory with the `MONAI_DATA_DIRECTORY` environment variable.\n",
    "This allows you to save results and reuse downloads.\n",
    "If not specified a temporary directory will be used."
   ]
  },
  {
   "cell_type": "code",
   "execution_count": 3,
   "id": "e3c12dcc",
   "metadata": {},
   "outputs": [],
   "source": [
    "directory = os.environ.get(\"MONAI_DATA_DIRECTORY\")\n",
    "if directory is not None:\n",
    "    os.makedirs(directory, exist_ok=True)\n",
    "root_dir = tempfile.mkdtemp() if directory is None else directory"
   ]
  },
  {
   "cell_type": "markdown",
   "id": "b1bdca33",
   "metadata": {},
   "source": [
    "## Configure LORIS dataset"
   ]
  },
  {
   "cell_type": "code",
   "execution_count": 4,
   "id": "3695ea5c",
   "metadata": {},
   "outputs": [],
   "source": [
    "from pvg.constants.loris.general import Sequences\n",
    "from pvg.constants.loris.indexing import SubjectKeys as SJ_KEYS\n",
    "from pvg.constants.pipeline import SplitKeys\n",
    "from pvg.runner.dataset.dataset import get_leaf_val_from_dict, glob_file, load_image\n",
    "from pvg.runner.utilities.io import IO\n",
    "from pvg.runner.transforms.augmentation import CustomTransforms\n",
    "\n",
    "from monai import transforms\n",
    "from torch.utils.data import Dataset, DataLoader\n",
    "from typing import List, Tuple, Union, Dict\n",
    "\n",
    "import numpy as np\n",
    "import matplotlib.pyplot as plt\n",
    "import ignite.distributed as idist"
   ]
  },
  {
   "cell_type": "code",
   "execution_count": 9,
   "id": "d485912e",
   "metadata": {},
   "outputs": [],
   "source": [
    "DEVICE = \"cuda:0\""
   ]
  },
  {
   "cell_type": "code",
   "execution_count": 10,
   "id": "eb8c33a5",
   "metadata": {},
   "outputs": [],
   "source": [
    "class Hyperparameters:\n",
    "    batch_size: int = 1\n",
    "    num_workers: int = 7\n",
    "    sequences = [Sequences.FLR]\n",
    "    transforms: Dict[str, Dict] = {\n",
    "            'model': {\n",
    "                'SpatialPadd': {\n",
    "                    'keys': ['MRI', 'MASK'],\n",
    "                    'spatial_size': [64, 80, 64]\n",
    "                },\n",
    "                'RandFlipd': {\n",
    "                    'keys': ['MRI', 'MASK'],\n",
    "                    'prob': 0.1\n",
    "                }\n",
    "            },\n",
    "        }\n",
    "\n",
    "class Compose:\n",
    "    def __init__(self, transforms):\n",
    "        self.transforms = transforms\n",
    "\n",
    "    def __call__(self, data_dict):\n",
    "        for i, transform in enumerate(self.transforms):\n",
    "            data_dict = transform(data_dict)\n",
    "        return data_dict"
   ]
  },
  {
   "cell_type": "code",
   "execution_count": 11,
   "id": "7b94176d",
   "metadata": {},
   "outputs": [],
   "source": [
    "hp = Hyperparameters()"
   ]
  },
  {
   "cell_type": "markdown",
   "id": "414a90c7",
   "metadata": {},
   "source": [
    "## Define relevent classes for data loading"
   ]
  },
  {
   "cell_type": "code",
   "execution_count": 12,
   "id": "6c530d63",
   "metadata": {},
   "outputs": [],
   "source": [
    "# TODO: Modify the transforms used for training\n",
    "\n",
    "class DatasetDescription:\n",
    "    \"\"\"\n",
    "        Creates the train/val/test datasets given a data split and a dict containing all\n",
    "        the required rootdirs to find a file.\n",
    "\n",
    "        If the train/val/test dataset is a Dataset object, the default DataLoader\n",
    "        will be used with Hyperparameters.batch_size and Hyperparameters.num_workers.\n",
    "\n",
    "        If the train/val/test dataset is a list/tuple of Dataset objects, the custom\n",
    "        DataLoader will be used instead.\n",
    "    \"\"\"\n",
    "    def __init__(self):\n",
    "        self.train_dataset = None\n",
    "        self.val_dataset = None\n",
    "        self.test_dataset = None\n",
    "\n",
    "    def setup_datasets(self, data_split, rootdir_dict):\n",
    "        ################## MODIFY HERE #######################\n",
    "        item_template = {\n",
    "                'MRI': [(SJ_KEYS.MRI_AND_LABEL, s) for s in Hyperparameters.sequences],\n",
    "                'MASK': [(SJ_KEYS.MRI_AND_LABEL, Sequences.BEAST)],\n",
    "        }\n",
    "        self.train_dataset = CustomVolumeLoader(data_split[SplitKeys.TRAIN], rootdir_dict, item_template,\n",
    "                transform=Compose([\n",
    "                    transforms.SpatialPadd(**Hyperparameters.transforms['model']['SpatialPadd']),\n",
    "                    transforms.RandFlipd(**Hyperparameters.transforms['model']['RandFlipd']),\n",
    "                    ]))\n",
    "        self.val_dataset = CustomVolumeLoader(data_split[SplitKeys.VALIDATION], rootdir_dict, item_template,\n",
    "                transform=Compose([\n",
    "                    transforms.SpatialPadd(**Hyperparameters.transforms['model']['SpatialPadd'])\n",
    "                    ]))\n",
    "        self.test_dataset = CustomVolumeLoader(data_split[SplitKeys.TEST], rootdir_dict, item_template,\n",
    "                transform=Compose([\n",
    "                    transforms.SpatialPadd(**Hyperparameters.transforms['model']['SpatialPadd'])\n",
    "                    ]))\n",
    "        ######################################################\n",
    "\n",
    "    def get_train_dataset(self) -> Union[Dataset, List[Dataset], Tuple[Dataset]]:\n",
    "        return [self.train_dataset]\n",
    "\n",
    "    def get_val_dataset(self) -> Union[Dataset, List[Dataset], Tuple[Dataset]]:\n",
    "        return [self.val_dataset]\n",
    "\n",
    "    def get_test_dataset(self) -> Union[Dataset, List[Dataset], Tuple[Dataset]]:\n",
    "        return [self.test_dataset]\n",
    "    \n",
    "class CustomVolumeLoader(Dataset):\n",
    "    def __init__(self, dataset_dict, rootdir_dict, item_template, transform=None):\n",
    "        \"\"\"\n",
    "            dataset_dict: dict with format of { sample_key: sample_dict }\n",
    "            rootdir_dict: dict with format of { sample_dict_key: rootdir }\n",
    "            item_template: template dict for the item returned by the dataset.\n",
    "                Dict has format of { item_key1: [ keys_for_ch1, keys_for_ch2, ... ], ... }\n",
    "                where keys_for_ch is a tuple of keys to access the filepath of an image to load\n",
    "\n",
    "            ASSUMPTIONS:\n",
    "            - keys in each sample_dict corresponds to a key in rootdir_dict\n",
    "            - the first key in each keys_for_ch corresponds to a key in rootdir_dict\n",
    "        \"\"\"\n",
    "        self.dataset_dict = dataset_dict\n",
    "        self.sample_keys = list(dataset_dict.keys())\n",
    "        self.rootdir_dict = rootdir_dict\n",
    "        self.item_template = item_template\n",
    "        self.transform = transform\n",
    "\n",
    "    def __len__(self):\n",
    "        return len(self.sample_keys)\n",
    "\n",
    "    def _load_vol(self, idx):\n",
    "        sample_key = self.sample_keys[idx]\n",
    "        sample_dict = self.dataset_dict[sample_key]\n",
    "\n",
    "        # sample random timepoint from subject\n",
    "        random_tmpt = np.random.choice(list(sample_dict[SJ_KEYS.MRI_AND_LABEL]))\n",
    "\n",
    "        # Load images\n",
    "        output = {}\n",
    "        for item_key, keys_for_ch_list in self.item_template.items():\n",
    "            # Get image paths\n",
    "            img_paths = []\n",
    "            for keys_for_ch in keys_for_ch_list:\n",
    "                assert len(keys_for_ch) == 2\n",
    "                keys_for_ch = [keys_for_ch[0]] + [random_tmpt] + [keys_for_ch[-1]]\n",
    "                rel_path = get_leaf_val_from_dict(sample_dict, keys_for_ch)\n",
    "                full_path = os.path.join(self.rootdir_dict[keys_for_ch[0]], rel_path)\n",
    "                full_path = glob_file(full_path)\n",
    "                img_paths.append(full_path)\n",
    "\n",
    "            # Load images and stack into one array\n",
    "            imgs = [load_image(path) for path in img_paths]\n",
    "            output[item_key] = np.stack(imgs)\n",
    "\n",
    "        if self.transform is not None:\n",
    "            output = self.transform(output)\n",
    "\n",
    "        return output\n",
    "\n",
    "    def __getitem__(self, idx):\n",
    "        return self._load_vol(idx)\n",
    "    \n",
    "\n",
    "class CustomDataLoader:\n",
    "    \"\"\"\n",
    "        Custom DataLoader should either be a PyTorch DataLoader object or a custom python\n",
    "        object with __len__ and __iter__ method implemented.\n",
    "        If a custom object, __len__ should return the number of iterations/batches in an\n",
    "        epoch, and __iter__ should return a new Iterator.\n",
    "\n",
    "        CHANGES PERFORMED:\n",
    "        - modified distributed loader to classic loader\n",
    "        - changed 'dataset[0]' to 'dataset'\n",
    "    \"\"\"\n",
    "\n",
    "    @staticmethod\n",
    "    def get_train_loader(dataset):\n",
    "        dataloader = DataLoader( \n",
    "            dataset,\n",
    "            batch_size=Hyperparameters.batch_size,\n",
    "            drop_last=True,\n",
    "            num_workers=Hyperparameters.num_workers,\n",
    "            pin_memory=True,\n",
    "            persistent_workers=True)\n",
    "        return dataloader\n",
    "\n",
    "    @staticmethod\n",
    "    def get_val_loader(dataset):\n",
    "        dataloader = DataLoader(\n",
    "            dataset,\n",
    "            batch_size=Hyperparameters.batch_size,\n",
    "            drop_last=True,\n",
    "            num_workers=Hyperparameters.num_workers,\n",
    "            pin_memory=True,\n",
    "            persistent_workers=True)\n",
    "        return dataloader\n",
    "\n",
    "    @staticmethod\n",
    "    def get_test_loader(dataset):\n",
    "        dataloader = DataLoader(\n",
    "            dataset,\n",
    "            batch_size=Hyperparameters.batch_size,\n",
    "            drop_last=True,\n",
    "            num_workers=Hyperparameters.num_workers,\n",
    "            pin_memory=True)\n",
    "        return dataloader"
   ]
  },
  {
   "cell_type": "markdown",
   "id": "751c5e74",
   "metadata": {},
   "source": [
    "## Instantiate data loaders"
   ]
  },
  {
   "cell_type": "code",
   "execution_count": 13,
   "id": "a01f5dba",
   "metadata": {},
   "outputs": [],
   "source": [
    "splits_path = '/cim/ritchiey/capstone/splits.pickle'\n",
    "rootdir_dict = {\"MRI_AND_LABEL\": \"/cim/data/loris_1x1x3_v5\"}\n",
    "splits = IO.load_pickle(splits_path)\n",
    "dataset_descriptor = DatasetDescription()\n",
    "dataset_descriptor.setup_datasets(splits[\"experiment\"], rootdir_dict)\n",
    "\n",
    "dataloader = CustomDataLoader()\n",
    "dataloader_train = dataloader.get_train_loader(dataset_descriptor.train_dataset)\n",
    "dataloader_val = dataloader.get_val_loader(dataset_descriptor.val_dataset)\n",
    "dataloader_test = dataloader.get_test_loader(dataset_descriptor.test_dataset)"
   ]
  },
  {
   "cell_type": "code",
   "execution_count": 14,
   "id": "6f099d8d",
   "metadata": {},
   "outputs": [
    {
     "data": {
      "text/plain": [
       "Text(0.5, 1.0, 'Masked')"
      ]
     },
     "execution_count": 14,
     "metadata": {},
     "output_type": "execute_result"
    },
    {
     "data": {
      "image/png": "[encoded data removed]",
      "text/plain": [
       "<Figure size 640x480 with 2 Axes>"
      ]
     },
     "metadata": {},
     "output_type": "display_data"
    }
   ],
   "source": [
    "sample = dataset_descriptor.train_dataset[0]  # underwent random flipping\n",
    "fig, ax = plt.subplots(1, 2)\n",
    "ax[0].imshow(sample['MRI'][0, 32, :, :])\n",
    "ax[1].imshow(sample['MRI'][0, 32, :, :] * sample['MASK'][0, 32, :, :])\n",
    "\n",
    "ax[0].set_title(\"Non-masked\")\n",
    "ax[1].set_title(\"Masked\")"
   ]
  },
  {
   "cell_type": "markdown",
   "id": "5f164998-6c7d-44cd-93ee-e9d36c26ef96",
   "metadata": {},
   "source": [
    "## Read in environment setting, including data directory, model directory, and output directory\n",
    "\n",
    "The information for data directory, model directory, and output directory are saved in `\"./configs/environment_maisi_vae_train.json\"`"
   ]
  },
  {
   "cell_type": "code",
   "execution_count": 15,
   "id": "c38b4c33",
   "metadata": {
    "scrolled": true
   },
   "outputs": [
    {
     "name": "stdout",
     "output_type": "stream",
     "text": [
      "model_dir: ./models/\n",
      "tfevent_path: ./outputs/tfevent\n",
      "Trained model will be saved as ./models/autoencoder.pt and ./models/discriminator.pt.\n",
      "Tensorboard event will be saved as ./outputs/tfevent/autoencoder.\n"
     ]
    }
   ],
   "source": [
    "args = argparse.Namespace()\n",
    "\n",
    "environment_file = \"./configs/environment_maisi_vae_train.json\"\n",
    "env_dict = json.load(open(environment_file, \"r\"))\n",
    "for k, v in env_dict.items():\n",
    "    setattr(args, k, v)\n",
    "    print(f\"{k}: {v}\")\n",
    "\n",
    "# model path\n",
    "Path(args.model_dir).mkdir(parents=True, exist_ok=True)\n",
    "trained_g_path = os.path.join(args.model_dir, \"autoencoder.pt\")\n",
    "trained_d_path = os.path.join(args.model_dir, \"discriminator.pt\")\n",
    "print(f\"Trained model will be saved as {trained_g_path} and {trained_d_path}.\")\n",
    "\n",
    "# initialize tensorboard writer\n",
    "Path(args.tfevent_path).mkdir(parents=True, exist_ok=True)\n",
    "tensorboard_path = os.path.join(args.tfevent_path, \"autoencoder\")\n",
    "Path(tensorboard_path).mkdir(parents=True, exist_ok=True)\n",
    "# tensorboard_writer = SummaryWriter(tensorboard_path)\n",
    "print(f\"Tensorboard event will be saved as {tensorboard_path}.\")"
   ]
  },
  {
   "cell_type": "markdown",
   "id": "ae98233f-6492-40ed-9ba5-7ab4ae0f8ffd",
   "metadata": {},
   "source": [
    "## Read in configuration setting, including network definition, body region and anatomy to generate, etc.\n",
    "\n",
    "The information for the training hyperparameters and data processing parameters, like learning rate and patch size, are stored in `\"./configs/config_maisi_vae_train\"`. Please refer to README.md for the details."
   ]
  },
  {
   "cell_type": "code",
   "execution_count": 16,
   "id": "533414f3-bef5-49f7-b082-f803b5e494bf",
   "metadata": {},
   "outputs": [
    {
     "name": "stdout",
     "output_type": "stream",
     "text": [
      "random_aug: True\n",
      "spacing_type: rand_zoom\n",
      "spacing: None\n",
      "select_channel: 0\n",
      "batch_size: 1\n",
      "patch_size: [64, 64, 64]\n",
      "val_batch_size: 1\n",
      "val_patch_size: None\n",
      "val_sliding_window_patch_size: [96, 96, 64]\n",
      "lr: 0.0001\n",
      "perceptual_weight: 0.3\n",
      "kl_weight: 1e-07\n",
      "adv_weight: 0.1\n",
      "recon_loss: l1\n",
      "val_interval: 10\n",
      "cache: 0.5\n",
      "amp: True\n",
      "n_epochs: 1\n",
      "Network definition and training hyperparameters have been loaded.\n"
     ]
    }
   ],
   "source": [
    "config_file = \"./configs/config_maisi.json\"\n",
    "config_dict = json.load(open(config_file, \"r\"))\n",
    "for k, v in config_dict.items():\n",
    "    setattr(args, k, v)\n",
    "\n",
    "# check the format of inference inputs\n",
    "config_train_file = \"./configs/config_maisi_vae_train.json\"\n",
    "config_train_dict = json.load(open(config_train_file, \"r\"))\n",
    "for k, v in config_train_dict[\"data_option\"].items():\n",
    "    setattr(args, k, v)\n",
    "    print(f\"{k}: {v}\")\n",
    "for k, v in config_train_dict[\"autoencoder_train\"].items():\n",
    "    setattr(args, k, v)\n",
    "    print(f\"{k}: {v}\")\n",
    "\n",
    "print(\"Network definition and training hyperparameters have been loaded.\")"
   ]
  },
  {
   "cell_type": "markdown",
   "id": "d22296e5",
   "metadata": {},
   "source": [
    "## Set deterministic training for reproducibility"
   ]
  },
  {
   "cell_type": "code",
   "execution_count": 17,
   "id": "87ba613d-a2f5-4afc-95df-65ad21fafedd",
   "metadata": {},
   "outputs": [],
   "source": [
    "set_determinism(seed=0)"
   ]
  },
  {
   "cell_type": "markdown",
   "id": "02476bc7-c980-4b0b-8d7a-c780a5ccc11f",
   "metadata": {},
   "source": [
    "## Initialize networks"
   ]
  },
  {
   "cell_type": "code",
   "execution_count": 18,
   "id": "d499f7b1",
   "metadata": {
    "lines_to_next_cell": 2
   },
   "outputs": [],
   "source": [
    "args.autoencoder_def[\"num_splits\"] = 1\n",
    "autoencoder = define_instance(args, \"autoencoder_def\").to(DEVICE)\n",
    "discriminator_norm = \"INSTANCE\"\n",
    "discriminator = PatchDiscriminator(\n",
    "    spatial_dims=args.spatial_dims,\n",
    "    num_layers_d=3,\n",
    "    channels=32,\n",
    "    in_channels=1,\n",
    "    out_channels=1,\n",
    "    norm=discriminator_norm,\n",
    ").to(DEVICE)"
   ]
  },
  {
   "cell_type": "markdown",
   "id": "a7289e73",
   "metadata": {},
   "source": [
    "## Load pre-trained autoencoder"
   ]
  },
  {
   "cell_type": "code",
   "execution_count": 19,
   "id": "125918db",
   "metadata": {},
   "outputs": [
    {
     "data": {
      "text/plain": [
       "<All keys matched successfully>"
      ]
     },
     "execution_count": 19,
     "metadata": {},
     "output_type": "execute_result"
    }
   ],
   "source": [
    "state_dict = torch.load('models/autoencoder_epoch273.pt')\n",
    "autoencoder.load_state_dict(state_dict)"
   ]
  },
  {
   "cell_type": "code",
   "execution_count": 20,
   "id": "3e0486bb",
   "metadata": {},
   "outputs": [
    {
     "data": {
      "text/plain": [
       "{'_target_': 'monai.apps.generation.maisi.networks.autoencoderkl_maisi.AutoencoderKlMaisi',\n",
       " 'spatial_dims': '@spatial_dims',\n",
       " 'in_channels': '@image_channels',\n",
       " 'out_channels': '@image_channels',\n",
       " 'latent_channels': '@latent_channels',\n",
       " 'num_channels': [64, 128, 256],\n",
       " 'num_res_blocks': [2, 2, 2],\n",
       " 'norm_num_groups': 32,\n",
       " 'norm_eps': 1e-06,\n",
       " 'attention_levels': [False, False, False],\n",
       " 'with_encoder_nonlocal_attn': False,\n",
       " 'with_decoder_nonlocal_attn': False,\n",
       " 'use_checkpointing': False,\n",
       " 'use_convtranspose': False,\n",
       " 'norm_float16': True,\n",
       " 'num_splits': 1,\n",
       " 'dim_split': 1}"
      ]
     },
     "execution_count": 20,
     "metadata": {},
     "output_type": "execute_result"
    }
   ],
   "source": [
    "args.autoencoder_def"
   ]
  },
  {
   "cell_type": "markdown",
   "id": "fe658ac2-6a90-40eb-89fc-7ec35a41dc4b",
   "metadata": {},
   "source": [
    "## Training config"
   ]
  },
  {
   "cell_type": "code",
   "execution_count": 21,
   "id": "271f91bf-1c55-46e2-ae56-8677cd8eb81f",
   "metadata": {
    "scrolled": true
   },
   "outputs": [
    {
     "name": "stdout",
     "output_type": "stream",
     "text": [
      "Use l1 loss\n"
     ]
    }
   ],
   "source": [
    "# config loss and loss weight\n",
    "if args.recon_loss == \"l2\":\n",
    "    intensity_loss = MSELoss()\n",
    "    print(\"Use l2 loss\")\n",
    "else:\n",
    "    intensity_loss = L1Loss(reduction=\"mean\")\n",
    "    print(\"Use l1 loss\")\n",
    "adv_loss = PatchAdversarialLoss(criterion=\"least_squares\")\n",
    "\n",
    "loss_perceptual = (\n",
    "    PerceptualLoss(spatial_dims=3, network_type=\"squeeze\", is_fake_3d=True, fake_3d_ratio=0.2).eval().to(DEVICE)\n",
    ")\n",
    "\n",
    "# config optimizer and lr scheduler\n",
    "optimizer_g = torch.optim.Adam(params=autoencoder.parameters(), lr=args.lr, eps=1e-06 if args.amp else 1e-08)\n",
    "optimizer_d = torch.optim.Adam(params=discriminator.parameters(), lr=args.lr, eps=1e-06 if args.amp else 1e-08)\n",
    "\n",
    "\n",
    "# please adjust the learning rate warmup rule based on your dataset and n_epochs\n",
    "def warmup_rule(epoch):\n",
    "    # learning rate warmup rule\n",
    "    if epoch < 10:\n",
    "        return 0.01\n",
    "    elif epoch < 20:\n",
    "        return 0.1\n",
    "    else:\n",
    "        return 1.0\n",
    "\n",
    "\n",
    "scheduler_g = lr_scheduler.LambdaLR(optimizer_g, lr_lambda=warmup_rule)\n",
    "scheduler_d = lr_scheduler.LambdaLR(optimizer_d, lr_lambda=warmup_rule)\n",
    "\n",
    "# set AMP scaler\n",
    "if args.amp:\n",
    "    # test use mean reduction for everything\n",
    "    scaler_g = GradScaler(DEVICE, init_scale=2.0**8, growth_factor=1.5)\n",
    "    scaler_d = GradScaler(DEVICE, init_scale=2.0**8, growth_factor=1.5)"
   ]
  },
  {
   "cell_type": "markdown",
   "id": "2b1e19f4",
   "metadata": {},
   "source": [
    "## Helper functions for training"
   ]
  },
  {
   "cell_type": "code",
   "execution_count": 22,
   "id": "9d2a1ddb",
   "metadata": {},
   "outputs": [],
   "source": [
    "# TODO: May need to adjust this based on the MAISI training protocol (e.g., they normalize to 99.5th percentile)\n",
    "def build_batch(batch, device):\n",
    "    for key, value in batch.items():\n",
    "        if key in ['MRI', 'MASK']:\n",
    "            batch[key] = value.to(device, non_blocking=True)\n",
    "\n",
    "    # Apply transforms\n",
    "    batch['MRI'] = CustomTransforms.denoise(batch['MRI'], batch['MASK'])  # skull-stripping (multiply MRI with MASK)\n",
    "    batch['MRI'] = CustomTransforms.standardize(batch['MRI'], batch['MASK'])  # standardize to 0 mean, 1 SD\n",
    "\n",
    "    return batch"
   ]
  },
  {
   "cell_type": "markdown",
   "id": "d3c00aa4-a6ee-4adc-8933-51757cb79628",
   "metadata": {},
   "source": [
    "## Training"
   ]
  },
  {
   "cell_type": "code",
   "execution_count": null,
   "id": "4c251a32-390f-46dd-a613-75b12a7884c1",
   "metadata": {
    "scrolled": true
   },
   "outputs": [
    {
     "name": "stdout",
     "output_type": "stream",
     "text": [
      "lr: [1.0000000000000002e-06]\n"
     ]
    },
    {
     "ename": "OutOfMemoryError",
     "evalue": "CUDA out of memory. Tried to allocate 20.00 MiB. GPU ",
     "output_type": "error",
     "traceback": [
      "\u001b[0;31m---------------------------------------------------------------------------\u001b[0m",
      "\u001b[0;31mOutOfMemoryError\u001b[0m                          Traceback (most recent call last)",
      "Cell \u001b[0;32mIn[25], line 43\u001b[0m\n\u001b[1;32m     40\u001b[0m optimizer_d\u001b[38;5;241m.\u001b[39mzero_grad(set_to_none\u001b[38;5;241m=\u001b[39m\u001b[38;5;28;01mTrue\u001b[39;00m)\n\u001b[1;32m     41\u001b[0m \u001b[38;5;28;01mwith\u001b[39;00m autocast(\u001b[38;5;124m\"\u001b[39m\u001b[38;5;124mcuda\u001b[39m\u001b[38;5;124m\"\u001b[39m, enabled\u001b[38;5;241m=\u001b[39margs\u001b[38;5;241m.\u001b[39mamp):\n\u001b[1;32m     42\u001b[0m     \u001b[38;5;66;03m# Train Generator\u001b[39;00m\n\u001b[0;32m---> 43\u001b[0m     reconstruction, z_mu, z_sigma \u001b[38;5;241m=\u001b[39m \u001b[43mautoencoder\u001b[49m\u001b[43m(\u001b[49m\u001b[43mimages\u001b[49m\u001b[43m)\u001b[49m\n\u001b[1;32m     44\u001b[0m     losses \u001b[38;5;241m=\u001b[39m {\n\u001b[1;32m     45\u001b[0m         \u001b[38;5;124m\"\u001b[39m\u001b[38;5;124mrecons_loss\u001b[39m\u001b[38;5;124m\"\u001b[39m: intensity_loss(reconstruction, images),\n\u001b[1;32m     46\u001b[0m         \u001b[38;5;124m\"\u001b[39m\u001b[38;5;124mkl_loss\u001b[39m\u001b[38;5;124m\"\u001b[39m: KL_loss(z_mu, z_sigma),\n\u001b[1;32m     47\u001b[0m         \u001b[38;5;124m\"\u001b[39m\u001b[38;5;124mp_loss\u001b[39m\u001b[38;5;124m\"\u001b[39m: loss_perceptual(reconstruction\u001b[38;5;241m.\u001b[39mfloat(), images\u001b[38;5;241m.\u001b[39mfloat()),\n\u001b[1;32m     48\u001b[0m     }\n\u001b[1;32m     49\u001b[0m     logits_fake \u001b[38;5;241m=\u001b[39m discriminator(reconstruction\u001b[38;5;241m.\u001b[39mcontiguous()\u001b[38;5;241m.\u001b[39mfloat())[\u001b[38;5;241m-\u001b[39m\u001b[38;5;241m1\u001b[39m]\n",
      "File \u001b[0;32m/cim/ritchiey/our-env/lib/python3.10/site-packages/torch/nn/modules/module.py:1532\u001b[0m, in \u001b[0;36mModule._wrapped_call_impl\u001b[0;34m(self, *args, **kwargs)\u001b[0m\n\u001b[1;32m   1530\u001b[0m     \u001b[38;5;28;01mreturn\u001b[39;00m \u001b[38;5;28mself\u001b[39m\u001b[38;5;241m.\u001b[39m_compiled_call_impl(\u001b[38;5;241m*\u001b[39margs, \u001b[38;5;241m*\u001b[39m\u001b[38;5;241m*\u001b[39mkwargs)  \u001b[38;5;66;03m# type: ignore[misc]\u001b[39;00m\n\u001b[1;32m   1531\u001b[0m \u001b[38;5;28;01melse\u001b[39;00m:\n\u001b[0;32m-> 1532\u001b[0m     \u001b[38;5;28;01mreturn\u001b[39;00m \u001b[38;5;28;43mself\u001b[39;49m\u001b[38;5;241;43m.\u001b[39;49m\u001b[43m_call_impl\u001b[49m\u001b[43m(\u001b[49m\u001b[38;5;241;43m*\u001b[39;49m\u001b[43margs\u001b[49m\u001b[43m,\u001b[49m\u001b[43m \u001b[49m\u001b[38;5;241;43m*\u001b[39;49m\u001b[38;5;241;43m*\u001b[39;49m\u001b[43mkwargs\u001b[49m\u001b[43m)\u001b[49m\n",
      "File \u001b[0;32m/cim/ritchiey/our-env/lib/python3.10/site-packages/torch/nn/modules/module.py:1541\u001b[0m, in \u001b[0;36mModule._call_impl\u001b[0;34m(self, *args, **kwargs)\u001b[0m\n\u001b[1;32m   1536\u001b[0m \u001b[38;5;66;03m# If we don't have any hooks, we want to skip the rest of the logic in\u001b[39;00m\n\u001b[1;32m   1537\u001b[0m \u001b[38;5;66;03m# this function, and just call forward.\u001b[39;00m\n\u001b[1;32m   1538\u001b[0m \u001b[38;5;28;01mif\u001b[39;00m \u001b[38;5;129;01mnot\u001b[39;00m (\u001b[38;5;28mself\u001b[39m\u001b[38;5;241m.\u001b[39m_backward_hooks \u001b[38;5;129;01mor\u001b[39;00m \u001b[38;5;28mself\u001b[39m\u001b[38;5;241m.\u001b[39m_backward_pre_hooks \u001b[38;5;129;01mor\u001b[39;00m \u001b[38;5;28mself\u001b[39m\u001b[38;5;241m.\u001b[39m_forward_hooks \u001b[38;5;129;01mor\u001b[39;00m \u001b[38;5;28mself\u001b[39m\u001b[38;5;241m.\u001b[39m_forward_pre_hooks\n\u001b[1;32m   1539\u001b[0m         \u001b[38;5;129;01mor\u001b[39;00m _global_backward_pre_hooks \u001b[38;5;129;01mor\u001b[39;00m _global_backward_hooks\n\u001b[1;32m   1540\u001b[0m         \u001b[38;5;129;01mor\u001b[39;00m _global_forward_hooks \u001b[38;5;129;01mor\u001b[39;00m _global_forward_pre_hooks):\n\u001b[0;32m-> 1541\u001b[0m     \u001b[38;5;28;01mreturn\u001b[39;00m \u001b[43mforward_call\u001b[49m\u001b[43m(\u001b[49m\u001b[38;5;241;43m*\u001b[39;49m\u001b[43margs\u001b[49m\u001b[43m,\u001b[49m\u001b[43m \u001b[49m\u001b[38;5;241;43m*\u001b[39;49m\u001b[38;5;241;43m*\u001b[39;49m\u001b[43mkwargs\u001b[49m\u001b[43m)\u001b[49m\n\u001b[1;32m   1543\u001b[0m \u001b[38;5;28;01mtry\u001b[39;00m:\n\u001b[1;32m   1544\u001b[0m     result \u001b[38;5;241m=\u001b[39m \u001b[38;5;28;01mNone\u001b[39;00m\n",
      "File \u001b[0;32m/cim/ritchiey/our-env/lib/python3.10/site-packages/monai/networks/nets/autoencoderkl.py:666\u001b[0m, in \u001b[0;36mAutoencoderKL.forward\u001b[0;34m(self, x)\u001b[0m\n\u001b[1;32m    664\u001b[0m z_mu, z_sigma \u001b[38;5;241m=\u001b[39m \u001b[38;5;28mself\u001b[39m\u001b[38;5;241m.\u001b[39mencode(x)\n\u001b[1;32m    665\u001b[0m z \u001b[38;5;241m=\u001b[39m \u001b[38;5;28mself\u001b[39m\u001b[38;5;241m.\u001b[39msampling(z_mu, z_sigma)\n\u001b[0;32m--> 666\u001b[0m reconstruction \u001b[38;5;241m=\u001b[39m \u001b[38;5;28;43mself\u001b[39;49m\u001b[38;5;241;43m.\u001b[39;49m\u001b[43mdecode\u001b[49m\u001b[43m(\u001b[49m\u001b[43mz\u001b[49m\u001b[43m)\u001b[49m\n\u001b[1;32m    667\u001b[0m \u001b[38;5;28;01mreturn\u001b[39;00m reconstruction, z_mu, z_sigma\n",
      "File \u001b[0;32m/cim/ritchiey/our-env/lib/python3.10/site-packages/monai/networks/nets/autoencoderkl.py:660\u001b[0m, in \u001b[0;36mAutoencoderKL.decode\u001b[0;34m(self, z)\u001b[0m\n\u001b[1;32m    658\u001b[0m     dec \u001b[38;5;241m=\u001b[39m torch\u001b[38;5;241m.\u001b[39mutils\u001b[38;5;241m.\u001b[39mcheckpoint\u001b[38;5;241m.\u001b[39mcheckpoint(\u001b[38;5;28mself\u001b[39m\u001b[38;5;241m.\u001b[39mdecoder, z, use_reentrant\u001b[38;5;241m=\u001b[39m\u001b[38;5;28;01mFalse\u001b[39;00m)\n\u001b[1;32m    659\u001b[0m \u001b[38;5;28;01melse\u001b[39;00m:\n\u001b[0;32m--> 660\u001b[0m     dec \u001b[38;5;241m=\u001b[39m \u001b[38;5;28;43mself\u001b[39;49m\u001b[38;5;241;43m.\u001b[39;49m\u001b[43mdecoder\u001b[49m\u001b[43m(\u001b[49m\u001b[43mz\u001b[49m\u001b[43m)\u001b[49m\n\u001b[1;32m    661\u001b[0m \u001b[38;5;28;01mreturn\u001b[39;00m dec\n",
      "File \u001b[0;32m/cim/ritchiey/our-env/lib/python3.10/site-packages/torch/nn/modules/module.py:1532\u001b[0m, in \u001b[0;36mModule._wrapped_call_impl\u001b[0;34m(self, *args, **kwargs)\u001b[0m\n\u001b[1;32m   1530\u001b[0m     \u001b[38;5;28;01mreturn\u001b[39;00m \u001b[38;5;28mself\u001b[39m\u001b[38;5;241m.\u001b[39m_compiled_call_impl(\u001b[38;5;241m*\u001b[39margs, \u001b[38;5;241m*\u001b[39m\u001b[38;5;241m*\u001b[39mkwargs)  \u001b[38;5;66;03m# type: ignore[misc]\u001b[39;00m\n\u001b[1;32m   1531\u001b[0m \u001b[38;5;28;01melse\u001b[39;00m:\n\u001b[0;32m-> 1532\u001b[0m     \u001b[38;5;28;01mreturn\u001b[39;00m \u001b[38;5;28;43mself\u001b[39;49m\u001b[38;5;241;43m.\u001b[39;49m\u001b[43m_call_impl\u001b[49m\u001b[43m(\u001b[49m\u001b[38;5;241;43m*\u001b[39;49m\u001b[43margs\u001b[49m\u001b[43m,\u001b[49m\u001b[43m \u001b[49m\u001b[38;5;241;43m*\u001b[39;49m\u001b[38;5;241;43m*\u001b[39;49m\u001b[43mkwargs\u001b[49m\u001b[43m)\u001b[49m\n",
      "File \u001b[0;32m/cim/ritchiey/our-env/lib/python3.10/site-packages/torch/nn/modules/module.py:1541\u001b[0m, in \u001b[0;36mModule._call_impl\u001b[0;34m(self, *args, **kwargs)\u001b[0m\n\u001b[1;32m   1536\u001b[0m \u001b[38;5;66;03m# If we don't have any hooks, we want to skip the rest of the logic in\u001b[39;00m\n\u001b[1;32m   1537\u001b[0m \u001b[38;5;66;03m# this function, and just call forward.\u001b[39;00m\n\u001b[1;32m   1538\u001b[0m \u001b[38;5;28;01mif\u001b[39;00m \u001b[38;5;129;01mnot\u001b[39;00m (\u001b[38;5;28mself\u001b[39m\u001b[38;5;241m.\u001b[39m_backward_hooks \u001b[38;5;129;01mor\u001b[39;00m \u001b[38;5;28mself\u001b[39m\u001b[38;5;241m.\u001b[39m_backward_pre_hooks \u001b[38;5;129;01mor\u001b[39;00m \u001b[38;5;28mself\u001b[39m\u001b[38;5;241m.\u001b[39m_forward_hooks \u001b[38;5;129;01mor\u001b[39;00m \u001b[38;5;28mself\u001b[39m\u001b[38;5;241m.\u001b[39m_forward_pre_hooks\n\u001b[1;32m   1539\u001b[0m         \u001b[38;5;129;01mor\u001b[39;00m _global_backward_pre_hooks \u001b[38;5;129;01mor\u001b[39;00m _global_backward_hooks\n\u001b[1;32m   1540\u001b[0m         \u001b[38;5;129;01mor\u001b[39;00m _global_forward_hooks \u001b[38;5;129;01mor\u001b[39;00m _global_forward_pre_hooks):\n\u001b[0;32m-> 1541\u001b[0m     \u001b[38;5;28;01mreturn\u001b[39;00m \u001b[43mforward_call\u001b[49m\u001b[43m(\u001b[49m\u001b[38;5;241;43m*\u001b[39;49m\u001b[43margs\u001b[49m\u001b[43m,\u001b[49m\u001b[43m \u001b[49m\u001b[38;5;241;43m*\u001b[39;49m\u001b[38;5;241;43m*\u001b[39;49m\u001b[43mkwargs\u001b[49m\u001b[43m)\u001b[49m\n\u001b[1;32m   1543\u001b[0m \u001b[38;5;28;01mtry\u001b[39;00m:\n\u001b[1;32m   1544\u001b[0m     result \u001b[38;5;241m=\u001b[39m \u001b[38;5;28;01mNone\u001b[39;00m\n",
      "File \u001b[0;32m/cim/ritchiey/our-env/lib/python3.10/site-packages/monai/apps/generation/maisi/networks/autoencoderkl_maisi.py:876\u001b[0m, in \u001b[0;36mMaisiDecoder.forward\u001b[0;34m(self, x)\u001b[0m\n\u001b[1;32m    874\u001b[0m \u001b[38;5;28;01mdef\u001b[39;00m \u001b[38;5;21mforward\u001b[39m(\u001b[38;5;28mself\u001b[39m, x: torch\u001b[38;5;241m.\u001b[39mTensor) \u001b[38;5;241m-\u001b[39m\u001b[38;5;241m>\u001b[39m torch\u001b[38;5;241m.\u001b[39mTensor:\n\u001b[1;32m    875\u001b[0m     \u001b[38;5;28;01mfor\u001b[39;00m block \u001b[38;5;129;01min\u001b[39;00m \u001b[38;5;28mself\u001b[39m\u001b[38;5;241m.\u001b[39mblocks:\n\u001b[0;32m--> 876\u001b[0m         x \u001b[38;5;241m=\u001b[39m \u001b[43mblock\u001b[49m\u001b[43m(\u001b[49m\u001b[43mx\u001b[49m\u001b[43m)\u001b[49m\n\u001b[1;32m    877\u001b[0m         _empty_cuda_cache(\u001b[38;5;28mself\u001b[39m\u001b[38;5;241m.\u001b[39msave_mem)\n\u001b[1;32m    878\u001b[0m     \u001b[38;5;28;01mreturn\u001b[39;00m x\n",
      "File \u001b[0;32m/cim/ritchiey/our-env/lib/python3.10/site-packages/torch/nn/modules/module.py:1532\u001b[0m, in \u001b[0;36mModule._wrapped_call_impl\u001b[0;34m(self, *args, **kwargs)\u001b[0m\n\u001b[1;32m   1530\u001b[0m     \u001b[38;5;28;01mreturn\u001b[39;00m \u001b[38;5;28mself\u001b[39m\u001b[38;5;241m.\u001b[39m_compiled_call_impl(\u001b[38;5;241m*\u001b[39margs, \u001b[38;5;241m*\u001b[39m\u001b[38;5;241m*\u001b[39mkwargs)  \u001b[38;5;66;03m# type: ignore[misc]\u001b[39;00m\n\u001b[1;32m   1531\u001b[0m \u001b[38;5;28;01melse\u001b[39;00m:\n\u001b[0;32m-> 1532\u001b[0m     \u001b[38;5;28;01mreturn\u001b[39;00m \u001b[38;5;28;43mself\u001b[39;49m\u001b[38;5;241;43m.\u001b[39;49m\u001b[43m_call_impl\u001b[49m\u001b[43m(\u001b[49m\u001b[38;5;241;43m*\u001b[39;49m\u001b[43margs\u001b[49m\u001b[43m,\u001b[49m\u001b[43m \u001b[49m\u001b[38;5;241;43m*\u001b[39;49m\u001b[38;5;241;43m*\u001b[39;49m\u001b[43mkwargs\u001b[49m\u001b[43m)\u001b[49m\n",
      "File \u001b[0;32m/cim/ritchiey/our-env/lib/python3.10/site-packages/torch/nn/modules/module.py:1541\u001b[0m, in \u001b[0;36mModule._call_impl\u001b[0;34m(self, *args, **kwargs)\u001b[0m\n\u001b[1;32m   1536\u001b[0m \u001b[38;5;66;03m# If we don't have any hooks, we want to skip the rest of the logic in\u001b[39;00m\n\u001b[1;32m   1537\u001b[0m \u001b[38;5;66;03m# this function, and just call forward.\u001b[39;00m\n\u001b[1;32m   1538\u001b[0m \u001b[38;5;28;01mif\u001b[39;00m \u001b[38;5;129;01mnot\u001b[39;00m (\u001b[38;5;28mself\u001b[39m\u001b[38;5;241m.\u001b[39m_backward_hooks \u001b[38;5;129;01mor\u001b[39;00m \u001b[38;5;28mself\u001b[39m\u001b[38;5;241m.\u001b[39m_backward_pre_hooks \u001b[38;5;129;01mor\u001b[39;00m \u001b[38;5;28mself\u001b[39m\u001b[38;5;241m.\u001b[39m_forward_hooks \u001b[38;5;129;01mor\u001b[39;00m \u001b[38;5;28mself\u001b[39m\u001b[38;5;241m.\u001b[39m_forward_pre_hooks\n\u001b[1;32m   1539\u001b[0m         \u001b[38;5;129;01mor\u001b[39;00m _global_backward_pre_hooks \u001b[38;5;129;01mor\u001b[39;00m _global_backward_hooks\n\u001b[1;32m   1540\u001b[0m         \u001b[38;5;129;01mor\u001b[39;00m _global_forward_hooks \u001b[38;5;129;01mor\u001b[39;00m _global_forward_pre_hooks):\n\u001b[0;32m-> 1541\u001b[0m     \u001b[38;5;28;01mreturn\u001b[39;00m \u001b[43mforward_call\u001b[49m\u001b[43m(\u001b[49m\u001b[38;5;241;43m*\u001b[39;49m\u001b[43margs\u001b[49m\u001b[43m,\u001b[49m\u001b[43m \u001b[49m\u001b[38;5;241;43m*\u001b[39;49m\u001b[38;5;241;43m*\u001b[39;49m\u001b[43mkwargs\u001b[49m\u001b[43m)\u001b[49m\n\u001b[1;32m   1543\u001b[0m \u001b[38;5;28;01mtry\u001b[39;00m:\n\u001b[1;32m   1544\u001b[0m     result \u001b[38;5;241m=\u001b[39m \u001b[38;5;28;01mNone\u001b[39;00m\n",
      "File \u001b[0;32m/cim/ritchiey/our-env/lib/python3.10/site-packages/monai/apps/generation/maisi/networks/autoencoderkl_maisi.py:487\u001b[0m, in \u001b[0;36mMaisiResBlock.forward\u001b[0;34m(self, x)\u001b[0m\n\u001b[1;32m    484\u001b[0m h \u001b[38;5;241m=\u001b[39m \u001b[38;5;28mself\u001b[39m\u001b[38;5;241m.\u001b[39mconv1(h)\n\u001b[1;32m    485\u001b[0m _empty_cuda_cache(\u001b[38;5;28mself\u001b[39m\u001b[38;5;241m.\u001b[39msave_mem)\n\u001b[0;32m--> 487\u001b[0m h \u001b[38;5;241m=\u001b[39m \u001b[38;5;28;43mself\u001b[39;49m\u001b[38;5;241;43m.\u001b[39;49m\u001b[43mnorm2\u001b[49m\u001b[43m(\u001b[49m\u001b[43mh\u001b[49m\u001b[43m)\u001b[49m\n\u001b[1;32m    488\u001b[0m _empty_cuda_cache(\u001b[38;5;28mself\u001b[39m\u001b[38;5;241m.\u001b[39msave_mem)\n\u001b[1;32m    490\u001b[0m h \u001b[38;5;241m=\u001b[39m F\u001b[38;5;241m.\u001b[39msilu(h)\n",
      "File \u001b[0;32m/cim/ritchiey/our-env/lib/python3.10/site-packages/torch/nn/modules/module.py:1532\u001b[0m, in \u001b[0;36mModule._wrapped_call_impl\u001b[0;34m(self, *args, **kwargs)\u001b[0m\n\u001b[1;32m   1530\u001b[0m     \u001b[38;5;28;01mreturn\u001b[39;00m \u001b[38;5;28mself\u001b[39m\u001b[38;5;241m.\u001b[39m_compiled_call_impl(\u001b[38;5;241m*\u001b[39margs, \u001b[38;5;241m*\u001b[39m\u001b[38;5;241m*\u001b[39mkwargs)  \u001b[38;5;66;03m# type: ignore[misc]\u001b[39;00m\n\u001b[1;32m   1531\u001b[0m \u001b[38;5;28;01melse\u001b[39;00m:\n\u001b[0;32m-> 1532\u001b[0m     \u001b[38;5;28;01mreturn\u001b[39;00m \u001b[38;5;28;43mself\u001b[39;49m\u001b[38;5;241;43m.\u001b[39;49m\u001b[43m_call_impl\u001b[49m\u001b[43m(\u001b[49m\u001b[38;5;241;43m*\u001b[39;49m\u001b[43margs\u001b[49m\u001b[43m,\u001b[49m\u001b[43m \u001b[49m\u001b[38;5;241;43m*\u001b[39;49m\u001b[38;5;241;43m*\u001b[39;49m\u001b[43mkwargs\u001b[49m\u001b[43m)\u001b[49m\n",
      "File \u001b[0;32m/cim/ritchiey/our-env/lib/python3.10/site-packages/torch/nn/modules/module.py:1541\u001b[0m, in \u001b[0;36mModule._call_impl\u001b[0;34m(self, *args, **kwargs)\u001b[0m\n\u001b[1;32m   1536\u001b[0m \u001b[38;5;66;03m# If we don't have any hooks, we want to skip the rest of the logic in\u001b[39;00m\n\u001b[1;32m   1537\u001b[0m \u001b[38;5;66;03m# this function, and just call forward.\u001b[39;00m\n\u001b[1;32m   1538\u001b[0m \u001b[38;5;28;01mif\u001b[39;00m \u001b[38;5;129;01mnot\u001b[39;00m (\u001b[38;5;28mself\u001b[39m\u001b[38;5;241m.\u001b[39m_backward_hooks \u001b[38;5;129;01mor\u001b[39;00m \u001b[38;5;28mself\u001b[39m\u001b[38;5;241m.\u001b[39m_backward_pre_hooks \u001b[38;5;129;01mor\u001b[39;00m \u001b[38;5;28mself\u001b[39m\u001b[38;5;241m.\u001b[39m_forward_hooks \u001b[38;5;129;01mor\u001b[39;00m \u001b[38;5;28mself\u001b[39m\u001b[38;5;241m.\u001b[39m_forward_pre_hooks\n\u001b[1;32m   1539\u001b[0m         \u001b[38;5;129;01mor\u001b[39;00m _global_backward_pre_hooks \u001b[38;5;129;01mor\u001b[39;00m _global_backward_hooks\n\u001b[1;32m   1540\u001b[0m         \u001b[38;5;129;01mor\u001b[39;00m _global_forward_hooks \u001b[38;5;129;01mor\u001b[39;00m _global_forward_pre_hooks):\n\u001b[0;32m-> 1541\u001b[0m     \u001b[38;5;28;01mreturn\u001b[39;00m \u001b[43mforward_call\u001b[49m\u001b[43m(\u001b[49m\u001b[38;5;241;43m*\u001b[39;49m\u001b[43margs\u001b[49m\u001b[43m,\u001b[49m\u001b[43m \u001b[49m\u001b[38;5;241;43m*\u001b[39;49m\u001b[38;5;241;43m*\u001b[39;49m\u001b[43mkwargs\u001b[49m\u001b[43m)\u001b[49m\n\u001b[1;32m   1543\u001b[0m \u001b[38;5;28;01mtry\u001b[39;00m:\n\u001b[1;32m   1544\u001b[0m     result \u001b[38;5;241m=\u001b[39m \u001b[38;5;28;01mNone\u001b[39;00m\n",
      "File \u001b[0;32m/cim/ritchiey/our-env/lib/python3.10/site-packages/monai/apps/generation/maisi/networks/autoencoderkl_maisi.py:82\u001b[0m, in \u001b[0;36mMaisiGroupNorm3D.forward\u001b[0;34m(self, input)\u001b[0m\n\u001b[1;32m     80\u001b[0m std \u001b[38;5;241m=\u001b[39m array\u001b[38;5;241m.\u001b[39mvar([\u001b[38;5;241m2\u001b[39m, \u001b[38;5;241m3\u001b[39m, \u001b[38;5;241m4\u001b[39m, \u001b[38;5;241m5\u001b[39m], unbiased\u001b[38;5;241m=\u001b[39m\u001b[38;5;28;01mFalse\u001b[39;00m, keepdim\u001b[38;5;241m=\u001b[39m\u001b[38;5;28;01mTrue\u001b[39;00m)\u001b[38;5;241m.\u001b[39madd_(\u001b[38;5;28mself\u001b[39m\u001b[38;5;241m.\u001b[39meps)\u001b[38;5;241m.\u001b[39msqrt_()\n\u001b[1;32m     81\u001b[0m \u001b[38;5;28;01mif\u001b[39;00m \u001b[38;5;28mself\u001b[39m\u001b[38;5;241m.\u001b[39mnorm_float16:\n\u001b[0;32m---> 82\u001b[0m     inputs\u001b[38;5;241m.\u001b[39mappend((\u001b[43m(\u001b[49m\u001b[43marray\u001b[49m\u001b[43m \u001b[49m\u001b[38;5;241;43m-\u001b[39;49m\u001b[43m \u001b[49m\u001b[43mmean\u001b[49m\u001b[43m)\u001b[49m\u001b[43m \u001b[49m\u001b[38;5;241;43m/\u001b[39;49m\u001b[43m \u001b[49m\u001b[43mstd\u001b[49m)\u001b[38;5;241m.\u001b[39mto(dtype\u001b[38;5;241m=\u001b[39mtorch\u001b[38;5;241m.\u001b[39mfloat16))\n\u001b[1;32m     83\u001b[0m \u001b[38;5;28;01melse\u001b[39;00m:\n\u001b[1;32m     84\u001b[0m     inputs\u001b[38;5;241m.\u001b[39mappend((array \u001b[38;5;241m-\u001b[39m mean) \u001b[38;5;241m/\u001b[39m std)\n",
      "\u001b[0;31mOutOfMemoryError\u001b[0m: CUDA out of memory. Tried to allocate 20.00 MiB. GPU "
     ]
    }
   ],
   "source": [
    "# Initialize variables\n",
    "val_interval = args.val_interval\n",
    "best_val_recon_epoch_loss = 10000000.0\n",
    "total_step = 0\n",
    "start_epoch = 0\n",
    "max_epochs = args.n_epochs\n",
    "\n",
    "# Setup validation inferer\n",
    "val_inferer = (\n",
    "    SlidingWindowInferer(\n",
    "        roi_size=args.val_sliding_window_patch_size,\n",
    "        sw_batch_size=1,\n",
    "        progress=False,\n",
    "        overlap=0.0,\n",
    "        device=torch.device(\"cpu\"),\n",
    "        sw_device=DEVICE,\n",
    "    )\n",
    "    if args.val_sliding_window_patch_size\n",
    "    else SimpleInferer()\n",
    ")\n",
    "\n",
    "\n",
    "def loss_weighted_sum(losses):\n",
    "    return losses[\"recons_loss\"] + args.kl_weight * losses[\"kl_loss\"] + args.perceptual_weight * losses[\"p_loss\"]\n",
    "\n",
    "\n",
    "# Training and validation loops\n",
    "for epoch in range(start_epoch, max_epochs):\n",
    "    print(\"lr:\", scheduler_g.get_lr())\n",
    "    autoencoder.train()\n",
    "    discriminator.train()\n",
    "    train_epoch_losses = {\"recons_loss\": 0, \"kl_loss\": 0, \"p_loss\": 0}\n",
    "\n",
    "    for batch in dataloader_train:\n",
    "\n",
    "        batch = build_batch(batch, DEVICE)  # key step\n",
    "        images = batch['MRI'].contiguous()\n",
    "\n",
    "        optimizer_g.zero_grad(set_to_none=True)\n",
    "        optimizer_d.zero_grad(set_to_none=True)\n",
    "        with autocast(\"cuda\", enabled=args.amp):\n",
    "            # Train Generator\n",
    "            reconstruction, z_mu, z_sigma = autoencoder(images)\n",
    "            losses = {\n",
    "                \"recons_loss\": intensity_loss(reconstruction, images),\n",
    "                \"kl_loss\": KL_loss(z_mu, z_sigma),\n",
    "                \"p_loss\": loss_perceptual(reconstruction.float(), images.float()),\n",
    "            }\n",
    "            logits_fake = discriminator(reconstruction.contiguous().float())[-1]\n",
    "            generator_loss = adv_loss(logits_fake, target_is_real=True, for_discriminator=False)\n",
    "            loss_g = loss_weighted_sum(losses) + args.adv_weight * generator_loss\n",
    "\n",
    "            if args.amp:\n",
    "                scaler_g.scale(loss_g).backward()\n",
    "                scaler_g.unscale_(optimizer_g)\n",
    "                scaler_g.step(optimizer_g)\n",
    "                scaler_g.update()\n",
    "            else:\n",
    "                loss_g.backward()\n",
    "                optimizer_g.step()\n",
    "\n",
    "            # Train Discriminator\n",
    "            logits_fake = discriminator(reconstruction.contiguous().detach())[-1]\n",
    "            loss_d_fake = adv_loss(logits_fake, target_is_real=False, for_discriminator=True)\n",
    "            logits_real = discriminator(images.contiguous().detach())[-1]\n",
    "            loss_d_real = adv_loss(logits_real, target_is_real=True, for_discriminator=True)\n",
    "            loss_d = (loss_d_fake + loss_d_real) * 0.5\n",
    "\n",
    "            if args.amp:\n",
    "                scaler_d.scale(loss_d).backward()\n",
    "                scaler_d.step(optimizer_d)\n",
    "                scaler_d.update()\n",
    "            else:\n",
    "                loss_d.backward()\n",
    "                optimizer_d.step()\n",
    "\n",
    "        # Log training loss\n",
    "        total_step += 1\n",
    "        for loss_name, loss_value in losses.items():\n",
    "            # tensorboard_writer.add_scalar(f\"train_{loss_name}_iter\", loss_value.item(), total_step)\n",
    "            train_epoch_losses[loss_name] += loss_value.item()\n",
    "        # tensorboard_writer.add_scalar(\"train_adv_loss_iter\", generator_loss, total_step)\n",
    "        # tensorboard_writer.add_scalar(\"train_fake_loss_iter\", loss_d_fake, total_step)\n",
    "        # tensorboard_writer.add_scalar(\"train_real_loss_iter\", loss_d_real, total_step)\n",
    "\n",
    "    scheduler_g.step()\n",
    "    scheduler_d.step()\n",
    "    for key in train_epoch_losses:\n",
    "        train_epoch_losses[key] /= len(dataloader_train)\n",
    "    print(f\"Epoch {epoch} train_vae_loss {loss_weighted_sum(train_epoch_losses)}: {train_epoch_losses}.\")\n",
    "    # for loss_name, loss_value in train_epoch_losses.items():\n",
    "        # tensorboard_writer.add_scalar(f\"train_{loss_name}_epoch\", loss_value, epoch)\n",
    "    torch.save(autoencoder.state_dict(), trained_g_path)\n",
    "    torch.save(discriminator.state_dict(), trained_d_path)\n",
    "    print(\"Save trained autoencoder to\", trained_g_path)\n",
    "    print(\"Save trained discriminator to\", trained_d_path)\n",
    "\n",
    "    # Validation\n",
    "    if epoch % val_interval == 0:\n",
    "        autoencoder.eval()\n",
    "        val_epoch_losses = {\"recons_loss\": 0, \"kl_loss\": 0, \"p_loss\": 0}\n",
    "        val_loader_iter = iter(dataloader_val)\n",
    "        for batch in dataloader_val:\n",
    "            with torch.no_grad():\n",
    "                with autocast(\"cuda\", enabled=args.amp):\n",
    "                    \n",
    "                    batch = build_batch(batch, 'cpu')  # key step\n",
    "                    images = batch[\"MRI\"]\n",
    "\n",
    "                    reconstruction, _, _ = dynamic_infer(val_inferer, autoencoder, images)\n",
    "                    reconstruction = reconstruction.to(DEVICE)\n",
    "                    val_epoch_losses[\"recons_loss\"] += intensity_loss(reconstruction, images.to(DEVICE)).item()\n",
    "                    val_epoch_losses[\"kl_loss\"] += KL_loss(z_mu, z_sigma).item()\n",
    "                    val_epoch_losses[\"p_loss\"] += loss_perceptual(reconstruction, images.to(DEVICE)).item()\n",
    "\n",
    "        for key in val_epoch_losses:\n",
    "            val_epoch_losses[key] /= len(dataloader_val)\n",
    "\n",
    "        val_loss_g = loss_weighted_sum(val_epoch_losses)\n",
    "        print(f\"Epoch {epoch} val_vae_loss {val_loss_g}: {val_epoch_losses}.\")\n",
    "\n",
    "        if val_loss_g < best_val_recon_epoch_loss:\n",
    "            best_val_recon_epoch_loss = val_loss_g\n",
    "            trained_g_path_epoch = f\"{trained_g_path[:-3]}_epoch{epoch}.pt\"\n",
    "            torch.save(autoencoder.state_dict(), trained_g_path_epoch)\n",
    "            print(\"Got best val vae loss.\")\n",
    "            print(\"Save trained autoencoder to\", trained_g_path_epoch)\n",
    "\n",
    "        # for loss_name, loss_value in val_epoch_losses.items():\n",
    "        #     tensorboard_writer.add_scalar(loss_name, loss_value, epoch)\n",
    "\n",
    "        # Monitor scale_factor\n",
    "        # We'd like to tune kl_weights in order to make scale_factor close to 1.\n",
    "        scale_factor_sample = 1.0 / z_mu.flatten().std()\n",
    "        # tensorboard_writer.add_scalar(\"val_one_sample_scale_factor\", scale_factor_sample, epoch)\n",
    "\n",
    "        # Monitor reconstruction result\n",
    "        center_loc_axis = find_label_center_loc(images[0, 0, ...])\n",
    "        vis_image = get_xyz_plot(images[0, ...], center_loc_axis, mask_bool=False)\n",
    "        vis_recon_image = get_xyz_plot(reconstruction[0, ...], center_loc_axis, mask_bool=False)\n",
    "\n",
    "        # tensorboard_writer.add_image(\n",
    "        #     \"val_orig_img\",\n",
    "        #     vis_image.transpose([2, 0, 1]),\n",
    "        #     epoch,\n",
    "        # )\n",
    "        # tensorboard_writer.add_image(\n",
    "        #     \"val_recon_img\",\n",
    "        #     vis_recon_image.transpose([2, 0, 1]),\n",
    "        #     epoch,\n",
    "        # )\n",
    "\n",
    "        show_image(vis_image, title=\"val image\")\n",
    "        show_image(vis_recon_image, title=\"val recon result\")"
   ]
  }
 ],
 "metadata": {
  "jupytext": {
   "formats": "py:percent,ipynb"
  },
  "kernelspec": {
   "display_name": "our-env",
   "language": "python",
   "name": "python3"
  },
  "language_info": {
   "codemirror_mode": {
    "name": "ipython",
    "version": 3
   },
   "file_extension": ".py",
   "mimetype": "text/x-python",
   "name": "python",
   "nbconvert_exporter": "python",
   "pygments_lexer": "ipython3",
   "version": "3.10.14"
  }
 },
 "nbformat": 4,
 "nbformat_minor": 5
}
